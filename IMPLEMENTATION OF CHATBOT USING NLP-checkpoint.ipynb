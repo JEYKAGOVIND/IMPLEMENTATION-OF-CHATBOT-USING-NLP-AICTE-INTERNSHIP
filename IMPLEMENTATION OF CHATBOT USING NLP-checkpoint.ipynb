{
 "cells": [
  {
   "cell_type": "markdown",
   "id": "42a459bd-fe9f-4bfc-92f1-0581355f07d5",
   "metadata": {},
   "source": [
    "IMPLEMENTATION OF CHATBOT USING NLP"
   ]
  },
  {
   "cell_type": "code",
   "execution_count": 1,
   "id": "f4bbfab4-ecff-480b-a4f9-8d593e27dbc5",
   "metadata": {},
   "outputs": [
    {
     "name": "stdout",
     "output_type": "stream",
     "text": [
      "Requirement already satisfied: nltk in c:\\users\\jeyka\\appdata\\local\\programs\\python\\python313\\lib\\site-packages (3.9.1)\n",
      "Requirement already satisfied: scikit-learn in c:\\users\\jeyka\\appdata\\local\\programs\\python\\python313\\lib\\site-packages (1.6.1)\n",
      "Requirement already satisfied: streamlit in c:\\users\\jeyka\\appdata\\local\\programs\\python\\python313\\lib\\site-packages (1.42.2)\n",
      "Requirement already satisfied: click in c:\\users\\jeyka\\appdata\\local\\programs\\python\\python313\\lib\\site-packages (from nltk) (8.1.8)\n",
      "Requirement already satisfied: joblib in c:\\users\\jeyka\\appdata\\local\\programs\\python\\python313\\lib\\site-packages (from nltk) (1.4.2)\n",
      "Requirement already satisfied: regex>=2021.8.3 in c:\\users\\jeyka\\appdata\\local\\programs\\python\\python313\\lib\\site-packages (from nltk) (2024.11.6)\n",
      "Requirement already satisfied: tqdm in c:\\users\\jeyka\\appdata\\local\\programs\\python\\python313\\lib\\site-packages (from nltk) (4.67.1)\n",
      "Requirement already satisfied: numpy>=1.19.5 in c:\\users\\jeyka\\appdata\\local\\programs\\python\\python313\\lib\\site-packages (from scikit-learn) (2.2.3)\n",
      "Requirement already satisfied: scipy>=1.6.0 in c:\\users\\jeyka\\appdata\\local\\programs\\python\\python313\\lib\\site-packages (from scikit-learn) (1.15.2)\n",
      "Requirement already satisfied: threadpoolctl>=3.1.0 in c:\\users\\jeyka\\appdata\\local\\programs\\python\\python313\\lib\\site-packages (from scikit-learn) (3.5.0)\n",
      "Requirement already satisfied: altair<6,>=4.0 in c:\\users\\jeyka\\appdata\\local\\programs\\python\\python313\\lib\\site-packages (from streamlit) (5.5.0)\n",
      "Requirement already satisfied: blinker<2,>=1.0.0 in c:\\users\\jeyka\\appdata\\local\\programs\\python\\python313\\lib\\site-packages (from streamlit) (1.9.0)\n",
      "Requirement already satisfied: cachetools<6,>=4.0 in c:\\users\\jeyka\\appdata\\local\\programs\\python\\python313\\lib\\site-packages (from streamlit) (5.5.2)\n",
      "Requirement already satisfied: packaging<25,>=20 in c:\\users\\jeyka\\appdata\\local\\programs\\python\\python313\\lib\\site-packages (from streamlit) (24.2)\n",
      "Requirement already satisfied: pandas<3,>=1.4.0 in c:\\users\\jeyka\\appdata\\local\\programs\\python\\python313\\lib\\site-packages (from streamlit) (2.2.3)\n",
      "Requirement already satisfied: pillow<12,>=7.1.0 in c:\\users\\jeyka\\appdata\\local\\programs\\python\\python313\\lib\\site-packages (from streamlit) (11.1.0)\n",
      "Requirement already satisfied: protobuf<6,>=3.20 in c:\\users\\jeyka\\appdata\\local\\programs\\python\\python313\\lib\\site-packages (from streamlit) (5.29.3)\n",
      "Requirement already satisfied: pyarrow>=7.0 in c:\\users\\jeyka\\appdata\\local\\programs\\python\\python313\\lib\\site-packages (from streamlit) (19.0.1)\n",
      "Requirement already satisfied: requests<3,>=2.27 in c:\\users\\jeyka\\appdata\\local\\programs\\python\\python313\\lib\\site-packages (from streamlit) (2.32.3)\n",
      "Requirement already satisfied: rich<14,>=10.14.0 in c:\\users\\jeyka\\appdata\\local\\programs\\python\\python313\\lib\\site-packages (from streamlit) (13.9.4)\n",
      "Requirement already satisfied: tenacity<10,>=8.1.0 in c:\\users\\jeyka\\appdata\\local\\programs\\python\\python313\\lib\\site-packages (from streamlit) (9.0.0)\n",
      "Requirement already satisfied: toml<2,>=0.10.1 in c:\\users\\jeyka\\appdata\\local\\programs\\python\\python313\\lib\\site-packages (from streamlit) (0.10.2)\n",
      "Requirement already satisfied: typing-extensions<5,>=4.4.0 in c:\\users\\jeyka\\appdata\\local\\programs\\python\\python313\\lib\\site-packages (from streamlit) (4.12.2)\n",
      "Requirement already satisfied: watchdog<7,>=2.1.5 in c:\\users\\jeyka\\appdata\\local\\programs\\python\\python313\\lib\\site-packages (from streamlit) (6.0.0)\n",
      "Requirement already satisfied: gitpython!=3.1.19,<4,>=3.0.7 in c:\\users\\jeyka\\appdata\\local\\programs\\python\\python313\\lib\\site-packages (from streamlit) (3.1.44)\n",
      "Requirement already satisfied: pydeck<1,>=0.8.0b4 in c:\\users\\jeyka\\appdata\\local\\programs\\python\\python313\\lib\\site-packages (from streamlit) (0.9.1)\n",
      "Requirement already satisfied: tornado<7,>=6.0.3 in c:\\users\\jeyka\\appdata\\local\\programs\\python\\python313\\lib\\site-packages (from streamlit) (6.4.2)\n",
      "Requirement already satisfied: jinja2 in c:\\users\\jeyka\\appdata\\local\\programs\\python\\python313\\lib\\site-packages (from altair<6,>=4.0->streamlit) (3.1.5)\n",
      "Requirement already satisfied: jsonschema>=3.0 in c:\\users\\jeyka\\appdata\\local\\programs\\python\\python313\\lib\\site-packages (from altair<6,>=4.0->streamlit) (4.23.0)\n",
      "Requirement already satisfied: narwhals>=1.14.2 in c:\\users\\jeyka\\appdata\\local\\programs\\python\\python313\\lib\\site-packages (from altair<6,>=4.0->streamlit) (1.28.0)\n",
      "Requirement already satisfied: colorama in c:\\users\\jeyka\\appdata\\local\\programs\\python\\python313\\lib\\site-packages (from click->nltk) (0.4.6)\n",
      "Requirement already satisfied: gitdb<5,>=4.0.1 in c:\\users\\jeyka\\appdata\\local\\programs\\python\\python313\\lib\\site-packages (from gitpython!=3.1.19,<4,>=3.0.7->streamlit) (4.0.12)\n",
      "Requirement already satisfied: python-dateutil>=2.8.2 in c:\\users\\jeyka\\appdata\\local\\programs\\python\\python313\\lib\\site-packages (from pandas<3,>=1.4.0->streamlit) (2.9.0.post0)\n",
      "Requirement already satisfied: pytz>=2020.1 in c:\\users\\jeyka\\appdata\\local\\programs\\python\\python313\\lib\\site-packages (from pandas<3,>=1.4.0->streamlit) (2025.1)\n",
      "Requirement already satisfied: tzdata>=2022.7 in c:\\users\\jeyka\\appdata\\local\\programs\\python\\python313\\lib\\site-packages (from pandas<3,>=1.4.0->streamlit) (2025.1)\n",
      "Requirement already satisfied: charset-normalizer<4,>=2 in c:\\users\\jeyka\\appdata\\local\\programs\\python\\python313\\lib\\site-packages (from requests<3,>=2.27->streamlit) (3.4.1)\n",
      "Requirement already satisfied: idna<4,>=2.5 in c:\\users\\jeyka\\appdata\\local\\programs\\python\\python313\\lib\\site-packages (from requests<3,>=2.27->streamlit) (3.10)\n",
      "Requirement already satisfied: urllib3<3,>=1.21.1 in c:\\users\\jeyka\\appdata\\local\\programs\\python\\python313\\lib\\site-packages (from requests<3,>=2.27->streamlit) (2.3.0)\n",
      "Requirement already satisfied: certifi>=2017.4.17 in c:\\users\\jeyka\\appdata\\local\\programs\\python\\python313\\lib\\site-packages (from requests<3,>=2.27->streamlit) (2025.1.31)\n",
      "Requirement already satisfied: markdown-it-py>=2.2.0 in c:\\users\\jeyka\\appdata\\local\\programs\\python\\python313\\lib\\site-packages (from rich<14,>=10.14.0->streamlit) (3.0.0)\n",
      "Requirement already satisfied: pygments<3.0.0,>=2.13.0 in c:\\users\\jeyka\\appdata\\local\\programs\\python\\python313\\lib\\site-packages (from rich<14,>=10.14.0->streamlit) (2.19.1)\n",
      "Requirement already satisfied: smmap<6,>=3.0.1 in c:\\users\\jeyka\\appdata\\local\\programs\\python\\python313\\lib\\site-packages (from gitdb<5,>=4.0.1->gitpython!=3.1.19,<4,>=3.0.7->streamlit) (5.0.2)\n",
      "Requirement already satisfied: MarkupSafe>=2.0 in c:\\users\\jeyka\\appdata\\local\\programs\\python\\python313\\lib\\site-packages (from jinja2->altair<6,>=4.0->streamlit) (3.0.2)\n",
      "Requirement already satisfied: attrs>=22.2.0 in c:\\users\\jeyka\\appdata\\local\\programs\\python\\python313\\lib\\site-packages (from jsonschema>=3.0->altair<6,>=4.0->streamlit) (25.1.0)\n",
      "Requirement already satisfied: jsonschema-specifications>=2023.03.6 in c:\\users\\jeyka\\appdata\\local\\programs\\python\\python313\\lib\\site-packages (from jsonschema>=3.0->altair<6,>=4.0->streamlit) (2024.10.1)\n",
      "Requirement already satisfied: referencing>=0.28.4 in c:\\users\\jeyka\\appdata\\local\\programs\\python\\python313\\lib\\site-packages (from jsonschema>=3.0->altair<6,>=4.0->streamlit) (0.36.2)\n",
      "Requirement already satisfied: rpds-py>=0.7.1 in c:\\users\\jeyka\\appdata\\local\\programs\\python\\python313\\lib\\site-packages (from jsonschema>=3.0->altair<6,>=4.0->streamlit) (0.23.1)\n",
      "Requirement already satisfied: mdurl~=0.1 in c:\\users\\jeyka\\appdata\\local\\programs\\python\\python313\\lib\\site-packages (from markdown-it-py>=2.2.0->rich<14,>=10.14.0->streamlit) (0.1.2)\n",
      "Requirement already satisfied: six>=1.5 in c:\\users\\jeyka\\appdata\\local\\programs\\python\\python313\\lib\\site-packages (from python-dateutil>=2.8.2->pandas<3,>=1.4.0->streamlit) (1.17.0)\n",
      "Note: you may need to restart the kernel to use updated packages.\n"
     ]
    }
   ],
   "source": [
    "pip install nltk scikit-learn streamlit"
   ]
  },
  {
   "cell_type": "code",
   "execution_count": 2,
   "id": "ded919ca-2eb5-4ffb-9758-097783cb190d",
   "metadata": {},
   "outputs": [],
   "source": [
    "# Importing necessary libraries\n",
    "import nltk\n",
    "import random\n",
    "import os\n",
    "import ssl\n",
    "import streamlit as st\n",
    "from sklearn.feature_extraction.text import TfidfVectorizer\n",
    "from sklearn.linear_model import LogisticRegression"
   ]
  },
  {
   "cell_type": "code",
   "execution_count": 6,
   "id": "65a962c2-7c16-45a1-95b4-ef8f90116cfa",
   "metadata": {},
   "outputs": [
    {
     "name": "stderr",
     "output_type": "stream",
     "text": [
      "[nltk_data] Downloading package punkt to\n",
      "[nltk_data]     C:\\Users\\jeyka\\AppData\\Roaming\\nltk_data...\n",
      "[nltk_data]   Package punkt is already up-to-date!\n"
     ]
    },
    {
     "data": {
      "text/plain": [
       "True"
      ]
     },
     "execution_count": 6,
     "metadata": {},
     "output_type": "execute_result"
    }
   ],
   "source": [
    "ssl._create_default_https_context = ssl._create_unverified_context\n",
    "nltk.data.path.append(os.path.abspath('nltk_data'))\n",
    "nltk.download('punkt')"
   ]
  },
  {
   "cell_type": "code",
   "execution_count": null,
   "id": "108ac9ec-d10d-4ecb-b7a8-15e0e8c99c8d",
   "metadata": {},
   "outputs": [],
   "source": []
  },
  {
   "cell_type": "code",
   "execution_count": 8,
   "id": "2a6b192a-e58c-4fcd-9a09-e264aa3eeee1",
   "metadata": {},
   "outputs": [],
   "source": [
    "intents = [\n",
    "    {\n",
    "        'tag': 'greeting',\n",
    "        'patterns': ['Hi', 'Hello', 'Hey', 'What’s up?', 'How’s it going?', 'How are you?'],\n",
    "        'responses': ['Hey there!', 'Hello!', 'Hi!', 'Not much, just here to help!', 'I’m good, thanks for asking!']\n",
    "    },\n",
    "    {\n",
    "        'tag': 'goodbye',\n",
    "        'patterns': ['Bye', 'See you later', 'Goodbye', 'Take care', 'Catch you later'],\n",
    "        'responses': ['Goodbye!', 'See you soon!', 'Take care!', 'Until next time!']\n",
    "    },\n",
    "    {\n",
    "        'tag': 'thanks',\n",
    "        'patterns': ['Thank you', 'Thanks', 'Thanks a lot', 'I appreciate it', 'Much appreciated'],\n",
    "        'responses': ['You’re welcome!', 'No problem!', 'Always happy to help!', 'Glad I could assist!']\n",
    "    },\n",
    "    {\n",
    "        'tag': 'about',\n",
    "        'patterns': ['What can you do?', 'Who are you?', 'What are you?', 'Tell me about yourself'],\n",
    "        'responses': ['I’m a chatbot here to assist you!', 'I can answer questions and help you out!', 'I exist to make your life easier with information and advice.']\n",
    "    },\n",
    "    {\n",
    "        'tag': 'help',\n",
    "        'patterns': ['Help', 'I need help', 'Can you help me?', 'What should I do?', 'I’m stuck'],\n",
    "        'responses': ['Of course! What do you need help with?', 'I’m here to assist. What’s the issue?', 'Tell me what’s going on, and I’ll try my best to help!']\n",
    "    },\n",
    "    {\n",
    "        'tag': 'age',\n",
    "        'patterns': ['How old are you?', 'What’s your age?', 'When were you created?'],\n",
    "        'responses': ['I don’t have an age like humans do!', 'I exist in the digital world, so age is just a concept for me.', 'I was created to assist, and that’s what matters!']\n",
    "    },\n",
    "    {\n",
    "        'tag': 'weather',\n",
    "        'patterns': ['What’s the weather like?', 'How’s the weather today?', 'Tell me the weather'],\n",
    "        'responses': ['I don’t have real-time weather data, but you can check a weather app!', 'Try looking up the weather online for accurate updates.', 'I can’t fetch weather info, but checking a weather website should help!']\n",
    "    },\n",
    "    {\n",
    "        'tag': 'budget',\n",
    "        'patterns': ['How can I make a budget?', 'What’s a good budgeting strategy?', 'How do I create a budget?', 'Give me budgeting tips'],\n",
    "        'responses': [\n",
    "            'To create a budget, start by tracking your income and expenses. Then, divide your income into essentials, savings, and fun expenses!',\n",
    "            'A simple budgeting rule is the 50/30/20 method—50% for needs, 30% for wants, and 20% for savings or debt payments.',\n",
    "            'Start by setting financial goals, tracking expenses, and prioritizing your spending to make the most of your money!'\n",
    "        ]\n",
    "    },\n",
    "    {\n",
    "        'tag': 'credit_score',\n",
    "        'patterns': ['What is a credit score?', 'How do I check my credit score?', 'How can I improve my credit score?', 'Tell me about credit scores'],\n",
    "        'responses': [\n",
    "            'A credit score is a number that represents your financial trustworthiness. Lenders use it to decide if they should lend you money.',\n",
    "            'You can check your credit score for free on platforms like Credit Karma or through your bank’s website.',\n",
    "            'To improve your credit score, pay bills on time, reduce outstanding debt, and avoid opening too many new credit accounts at once.'\n",
    "        ]\n",
    "    },\n",
    "    {\n",
    "        'tag': 'jokes',\n",
    "        'patterns': ['Tell me a joke', 'Make me laugh', 'Say something funny'],\n",
    "        'responses': [\n",
    "            'Why don’t scientists trust atoms? Because they make up everything!',\n",
    "            'I told my WiFi it was over. Now it’s feeling disconnected.',\n",
    "            'Why did the math book look sad? It had too many problems.'\n",
    "        ]\n",
    "    },\n",
    "    {\n",
    "        'tag': 'motivation',\n",
    "        'patterns': ['Give me motivation', 'Inspire me', 'I need motivation', 'Say something inspiring'],\n",
    "        'responses': [\n",
    "            'Believe in yourself! Every expert was once a beginner.',\n",
    "            'Your only limit is your mind. Keep pushing forward!',\n",
    "            'Success is not final, failure is not fatal: It is the courage to continue that counts.'\n",
    "        ]\n",
    "    },\n",
    "    {\n",
    "        'tag': 'food_suggestions',\n",
    "        'patterns': ['What should I eat?', 'Suggest me some food', 'I’m hungry, what should I eat?'],\n",
    "        'responses': [\n",
    "            'How about some pasta or a nice homemade sandwich?',\n",
    "            'Pizza is always a great choice!',\n",
    "            'Try something healthy like a smoothie or a salad!'\n",
    "        ]\n",
    "    },\n",
    "    {\n",
    "        'tag': 'study_tips',\n",
    "        'patterns': ['Give me study tips', 'How to study effectively?', 'I want to focus on studying'],\n",
    "        'responses': [\n",
    "            'Use the Pomodoro technique: Study for 25 minutes, then take a short break!',\n",
    "            'Make a study schedule and stick to it!',\n",
    "            'Active recall and practice tests are the best way to remember what you learn!'\n",
    "        ]\n",
    "    },\n",
    "    {\n",
    "        'tag': 'ai_explanation',\n",
    "        'patterns': ['What is AI?', 'Explain artificial intelligence', 'How does AI work?'],\n",
    "        'responses': [\n",
    "            'Artificial Intelligence (AI) is the simulation of human intelligence in machines that can learn and solve problems!',\n",
    "            'AI allows computers to think, learn, and make decisions like humans, using algorithms and data.',\n",
    "            'From chatbots to self-driving cars, AI is everywhere! It helps automate tasks and make predictions based on data.'\n",
    "        ]\n",
    "    }\n",
    "]\n"
   ]
  },
  {
   "cell_type": "code",
   "execution_count": null,
   "id": "1799afd2-def2-41e9-b0cb-b2e1edf310cf",
   "metadata": {},
   "outputs": [],
   "source": []
  }
 ],
 "metadata": {
  "kernelspec": {
   "display_name": "Python 3 (ipykernel)",
   "language": "python",
   "name": "python3"
  },
  "language_info": {
   "codemirror_mode": {
    "name": "ipython",
    "version": 3
   },
   "file_extension": ".py",
   "mimetype": "text/x-python",
   "name": "python",
   "nbconvert_exporter": "python",
   "pygments_lexer": "ipython3",
   "version": "3.13.2"
  }
 },
 "nbformat": 4,
 "nbformat_minor": 5
}
